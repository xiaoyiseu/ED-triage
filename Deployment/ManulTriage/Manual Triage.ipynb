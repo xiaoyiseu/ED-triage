{
 "cells": [
  {
   "cell_type": "code",
   "execution_count": 1,
   "metadata": {},
   "outputs": [],
   "source": [
    "#!/usr/bin/env python\n",
    "# -*- coding: utf-8 -*-\n",
    "# author:XiaoYi\n",
    "import pickle, os\n",
    "from Extkinter import *\n",
    "from PIL import Image,ImageTk\n",
    "from datetime import datetime\n",
    "import pandas as pd\n",
    "from tkinter import *\n",
    "import tkinter as tk\n",
    "from tkinter import ttk\n",
    "import tkinter.messagebox\n",
    "import time\n",
    "import numpy as np"
   ]
  },
  {
   "cell_type": "code",
   "execution_count": 2,
   "metadata": {},
   "outputs": [],
   "source": [
    "def InputBox(default_value, x, y):\n",
    "    entry = ttk.Entry(window, width=10)\n",
    "    entry.place(x=x, y=y)\n",
    "    entry.insert(0, default_value)\n",
    "\n",
    "def InputBoxChiefComplaintRef(default_value, x, y):\n",
    "    entry = ttk.Entry(window,width=30)\n",
    "    entry.place(x=x, y=y)\n",
    "    entry.insert(0, default_value)\n",
    "    \n",
    "def AgeTranslation(birth):\n",
    "    if birth != 'null' and birth != '':\n",
    "        if \"/\" in birth:\n",
    "            birth_d = datetime.strptime(birth, \"%Y/%m/%d\")\n",
    "        elif \"-\" in birth:\n",
    "            birth_d = datetime.strptime(birth, \"%Y-%m-%d\").date()\n",
    "        else:\n",
    "            birth_d = datetime.strptime(birth, \"%Y%m%d\").date()\n",
    "        today_d = datetime.now()\n",
    "        age = today_d.year - birth_d.year\n",
    "        return age\n",
    "    else:\n",
    "        return '空值'\n",
    "\n",
    "def update_patient_info():\n",
    "    global idx, Name, ID, Gender, Age, Temp, PulseRate, Respiration\n",
    "    global BloodPres, SpO2, ArrMode, ChiefComp, EndIndex\n",
    "\n",
    "    if idx < EndIndex:\n",
    "        Name = data['病人姓名'][idx]\n",
    "        ID = data['病人ID'][idx]\n",
    "        Gender = data['性别'][idx]\n",
    "        Age = AgeTranslation(data['出生日期'][idx])\n",
    "        Temp = data['T℃'][idx]\n",
    "        PulseRate = data['P(次/分)'][idx]\n",
    "        Respiration = data['R(次/分)'][idx]\n",
    "        BloodPres = data['BP(mmHg)'][idx]\n",
    "        SpO2 = data['SpO2'][idx]\n",
    "        ArrMode = data['到院方式'][idx]\n",
    "        ChiefComp = data['分诊印象'][idx]\n",
    "\n",
    "        # 更新GUI中的患者信息\n",
    "        InputBox(Name, 160, 0)\n",
    "        InputBox(ID, 160, 30)\n",
    "        InputBox(Gender, 160, 60)\n",
    "        InputBox(Age, 160, 90)\n",
    "        InputBox(Temp, 60, 200)\n",
    "        InputBox(PulseRate, 60, 230)\n",
    "        InputBox(Respiration, 60, 260)\n",
    "        InputBox(BloodPres, 60, 290)\n",
    "        InputBox(SpO2, 60, 320)\n",
    "        InputBox(ArrMode, 400, 0)\n",
    "        name_refer.delete(1.0, tk.END)\n",
    "        name_refer.insert(tk.END, ChiefComp)\n",
    "        Level = LevelModeLabel.get()\n",
    "        Department = DepartmentLabel.get()        \n",
    "    else:\n",
    "        tk.messagebox.showinfo(\"提示\", \"已经到达数据末尾，将关闭窗口。\")\n",
    "        window.destroy()  # 关闭窗口\n",
    "\n",
    "def creat_csv(file_path, COLUMN):\n",
    "    if not os.path.exists(file_path):\n",
    "        tabel = pd.DataFrame(columns=COLUMN)\n",
    "        tabel.to_csv(file_path, index=False, header=True, encoding=\"utf_8_sig\")\n",
    "    else:\n",
    "        tabel = pd.read_csv(file_path, engine='python')\n",
    "    return tabel\n",
    "\n",
    "def write(save_path, variables, columns):\n",
    "    # 如果文件不存在，创建一个新的 CSV 文件\n",
    "    try:\n",
    "        DATA = pd.read_csv(save_path)\n",
    "    except FileNotFoundError:\n",
    "        DATA = pd.DataFrame(columns=columns)\n",
    "    new_row = pd.Series(variables, index=columns)\n",
    "    DATA= pd.concat([DATA, new_row.to_frame().transpose()], ignore_index=True)\n",
    "    DATA.to_csv(save_path, index=False,encoding=\"utf_8_sig\")"
   ]
  },
  {
   "cell_type": "code",
   "execution_count": 3,
   "metadata": {
    "scrolled": true
   },
   "outputs": [
    {
     "name": "stdout",
     "output_type": "stream",
     "text": [
      "请输入分诊人员的姓名（建议中文）：123\n",
      "请输入起始索引(比如从1开始)：1\n",
      "请输入结束索引（比如到100结束）：50\n"
     ]
    }
   ],
   "source": [
    "if __name__ == '__main__':\n",
    "    # 全局变量\n",
    "    window = None\n",
    "    data = None\n",
    "    Name, ID, Gender, Age, Temp, PulseRate, Respiration, BloodPres, SpO2, ArrMode, ChiefComp, Level, Department= [None] * 13\n",
    "    name_refer = None  # 声明为全局变量\n",
    "    \n",
    "    window = tk.Tk()\n",
    "    window.title('智能分诊系统v1.0-测试版本')\n",
    "    window.geometry('620x400')\n",
    "    window.resizable(0, 0)\n",
    "    \n",
    "    path = r\"./data/ClearData.txt\"\n",
    "    NameDoctor = input('请输入分诊人员的姓名（建议中文）：')\n",
    "    StartIndex = int(input('请输入起始索引(比如从1开始)：'))\n",
    "    if StartIndex == 0:\n",
    "        StartIndex = 1\n",
    "    EndIndex = int(input('请输入结束索引（比如到100结束）：'))\n",
    "    ResultPath = r'./result'\n",
    "    if not os.path.exists(ResultPath):\n",
    "         os.makedirs(ResultPath)\n",
    "    save_path = os.path.join(ResultPath, NameDoctor + '_TriageData.csv')\n",
    "    Columns = ['病人ID','病人姓名','性别','出生日期','到院方式','分诊印象','T℃', 'P(次/分)',\n",
    "               'R(次/分)', 'BP(mmHg)', 'SpO2', '分诊耗时(秒)', '级别','去向', '级别M','科室M']\n",
    "    Data = pd.read_csv(path, engine='python')\n",
    "    P = pd.DataFrame(Data) #, columns=Columns   \n",
    "    data = P[StartIndex-1: EndIndex]\n",
    "        \n",
    "    Tabel = creat_csv(save_path, Columns)\n",
    "    INDEX = Columns    \n",
    "    HistoryData = pd.read_csv(save_path, engine='python')\n",
    "    if   StartIndex >= len(HistoryData):#数据右边\n",
    "        counter = StartIndex-1\n",
    "    elif 0<= StartIndex<len(HistoryData) and EndIndex>len(HistoryData):\n",
    "        counter = len(HistoryData)\n",
    "    elif EndIndex <=len(HistoryData):#数据之间\n",
    "#         tk.messagebox.showinfo(\"提示\", \"该部分已处理过，将关闭窗口。\")\n",
    "#         window.destroy()\n",
    "        print('该部分已处理过！！')\n",
    "        counter = len(HistoryData)\n",
    "#         os._exit(0)# 括号要放值os._exit(0)--正常退出\n",
    "    idx = counter\n",
    "    \n",
    "    Name = data['病人姓名'][idx]\n",
    "    ID = data['病人ID'][idx]\n",
    "    Gender = data['性别'][idx]\n",
    "    Age = AgeTranslation(data['出生日期'][idx])\n",
    "\n",
    "    Temp = data['T℃'][idx]\n",
    "    PulseRate = data['P(次/分)'][idx]\n",
    "    Respiration = data['R(次/分)'][idx]\n",
    "    BloodPres = data['BP(mmHg)'][idx]\n",
    "    SpO2 = data['SpO2'][idx]\n",
    "    ArrMode = data['到院方式'][idx]\n",
    "    ChiefComp = data['分诊印象'][idx]\n",
    "    name_refer = tk.Text(window, width=30, height=3, wrap=tk.WORD)\n",
    "    name_refer.insert(tk.END, ChiefComp)\n",
    "    name_refer.place(x=400, y=100)\n",
    "\n",
    "    # *************************************患者信息***********************\n",
    "    # *************************************患者信息***********************\n",
    "    tk.Label(window, text=\"\", bg=\"lightgray\", fg=\"white\").place(x=0, y=0, width=250, height=140)\n",
    "    tk.Label(window, text=\"患者信息\", bg=\"lightblue\", fg=\"white\", font=(\"华文细黑\", 12)).place(x=15, y=165)\n",
    "\n",
    "    # 第4步，加载 wellcome image\n",
    "    image_text = Text(window, height=10, width=16)\n",
    "    photo = PhotoImage(file=\"RC.png\")\n",
    "    image_text.image_create('0.0', image=photo)\n",
    "    image_text.grid(row=2, column=1, columnspan=2, sticky=W)\n",
    "\n",
    "    # 第5步\n",
    "    tk.Label(window, text='姓名:', bg=\"lightgray\", font=('华文细黑', 12)).place(x=120, y=0)\n",
    "    InputBox(Name, 160, 0)\n",
    "    tk.Label(window, text='ID:', bg=\"lightgray\", font=('华文细黑', 12)).place(x=120, y=30)\n",
    "    InputBox(ID, 160, 30)\n",
    "    tk.Label(window, text='性别:', bg=\"lightgray\", font=('华文细黑', 12)).place(x=120, y=60)\n",
    "    InputBox(Gender, 160, 60)\n",
    "    # # 单选钮，男\n",
    "    # def show():\n",
    "    #     print(Gender[sex.get()-1][0])\n",
    "    # sex = tk.IntVar(value=1)\n",
    "    # Gender = [(\"男\", 0),(\"女\", 1),]\n",
    "    # radioMan = tk.Radiobutton(window, variable=sex, value=1, text='男', bg=\"lightgray\", font=('华文细黑', 12),command=show)\n",
    "    # radioMan.place(x=160, y=60, width=50, height=20)\n",
    "    # radioWoman = tk.Radiobutton(window, variable=sex, value=2, text='女', bg=\"lightgray\", font=('华文细黑', 12),command=show)\n",
    "    # radioWoman.place(x=210, y=60, width=70, height=20)\n",
    "\n",
    "    tk.Label(window, text='年龄:', bg=\"lightgray\", font=('华文细黑', 12)).place(x=120, y=90)\n",
    "    InputBox(Age, 160, 90)\n",
    "\n",
    "    # 第6步，*************************************生命体征\n",
    "    # 第6步，*************************************生命体征\n",
    "    tk.Label(window, text=\"\", bg=\"darkseagreen\", fg=\"black\").place(x=0, y=160, width=160, height=200)\n",
    "    tk.Label(window, text=\"生命体征\", bg=\"olivedrab\", fg=\"white\", font=(\"华文细黑\", 12)).place(x=0, y=165)\n",
    "    tk.Label(window, text='体温:', bg=\"darkseagreen\", fg=\"black\", font=('华文细黑', 12)).place(x=15, y=200)\n",
    "    InputBox(Temp, 60, 200)\n",
    "    tk.Label(window, text='心率:', bg=\"darkseagreen\", fg=\"black\", font=('华文细黑', 12)).place(x=15, y=230)\n",
    "    InputBox(PulseRate, 60, 230)\n",
    "    tk.Label(window, text='呼吸:', bg=\"darkseagreen\", fg=\"black\", font=('华文细黑', 12)).place(x=15, y=260)\n",
    "    InputBox(Respiration, 60, 260)\n",
    "    tk.Label(window, text='血压:', bg=\"darkseagreen\", fg=\"black\", font=('华文细黑', 12)).place(x=15, y=290)\n",
    "    InputBox(BloodPres, 60, 290)\n",
    "    tk.Label(window, text='血氧:', bg=\"darkseagreen\", fg=\"black\", font=('华文细黑', 12)).place(x=15, y=320)\n",
    "    InputBox(SpO2, 60, 320)\n",
    "\n",
    "    # *************************************到院方式\n",
    "    # *************************************到院方式\n",
    "    ArrivalModeTXT = tk.Label(window, text='到院方式:', font=('华文细黑', 12)).place(x=300, y=0)\n",
    "    InputBox(ArrMode, 400, 0)\n",
    "\n",
    "    # ArrivalMode = ['步入', '轮椅', '120', '扶入']\n",
    "    # ArrivalModeLabel = tk.ttk.Combobox(window, values=tuple(ArrivalMode)).place(x=400, y=0, width=60, height=20)\n",
    "\n",
    "    tk.Label(window, text='主诉(输入):', font=('华文细黑', 12)).place(x=300, y=40)\n",
    "    name_input = tk.Text(window, width=30, height=3).place(x=400, y=40)\n",
    "\n",
    "    tk.Label(window, text='主诉(参考):', font=('华文细黑', 12)).place(x=300, y=100)\n",
    "    name_refer = tk.Text(window, width=30, height=3, wrap=tk.WORD)\n",
    "    name_refer.insert(tk.END, ChiefComp)\n",
    "    name_refer.place(x=400, y=100)\n",
    "\n",
    "\n",
    "    # InputBoxChiefComplaintRef(ChiefComp, 400, 100)\n",
    "    #*************************************等级和科室\n",
    "    #*************************************等级和科室\n",
    "    LevelTXT = tk.Label(window, text='等级:', font=('华文细黑', 16)).place(x=280, y=200)\n",
    "    LevelS = ['四级', '三级', '二级','一级' ]\n",
    "    global LevelModeLabel, DepartmentLabel\n",
    "    LevelModeLabel = tk.ttk.Combobox(window, values=tuple(LevelS), state=\"readonly\")\n",
    "    LevelModeLabel.place(x=360, y=200, width=80, height=20)\n",
    "    \n",
    "    DepartmentTXT = tk.Label(window, text='科室:', font=('华文细黑', 16)).place(x=450, y=200)\n",
    "    DepartmentS = ['外科','内科','耳鼻喉', '产科','妇科', '眼科', '神经内科', '神经外科', '骨科', '创伤救治中心']\n",
    "\n",
    "    DepartmentLabel = tk.ttk.Combobox(window, values=tuple(DepartmentS), state=\"readonly\")\n",
    "    DepartmentLabel.place(x=510, y=200, width=100, height=20)\n",
    "\n",
    "    # 第7步，#***************************   计数器\n",
    "    tk.Label(window, text='已完成:', font=('华文细黑', 10)).place(x=180, y=320)\n",
    "    label = tk.Label(window, text=len(HistoryData),font=('华文细黑','10'))\n",
    "    label.place(x=230, y=320)\n",
    "    \n",
    "    start = time.time()\n",
    "    def button_click():\n",
    "        SingleData=[]\n",
    "        global counter, idx, Level, Department, Consumption, start, end\n",
    "        counter += 1\n",
    "        label.config(text=str(counter))\n",
    "        idx = counter\n",
    "        Level = LevelModeLabel.get()\n",
    "        Department = DepartmentLabel.get()\n",
    "        end = time.time()\n",
    "        Consumption = np.round((end - start), 3)\n",
    "        start = time.time()\n",
    "              \n",
    "        SingleData = [ID, Name, Gender, Age, ArrMode, ChiefComp, Temp,\n",
    "                      PulseRate, Respiration, BloodPres, SpO2, Consumption, str(data['级别'][idx-1]), str(data['去向'][idx-1])]\n",
    "        SingleData.extend([Level, Department])\n",
    "        write(save_path, SingleData, INDEX)\n",
    "        if idx >= EndIndex:\n",
    "            tk.messagebox.showinfo(\"提示\", \"已经到达数据末尾，将关闭窗口。\")\n",
    "            window.destroy()\n",
    "        else:\n",
    "            update_patient_info()\n",
    "    # 第7步，#*************************************确认 和 下一条 按钮\n",
    "    btn_ok = tk.Button(window, text='OK', font=('Times New Roman', 15), width=10, height=2)\n",
    "    btn_ok.place(x=280, y=300)\n",
    "    \n",
    "    btn_next = tk.Button(window, text='Next', font=('Times New Roman', 15), width=10, height=2, command=button_click)\n",
    "    btn_next.place(x=450, y=300)\n",
    "    \n",
    "    # 第10步，主窗口循环显示\n",
    "    window.mainloop()"
   ]
  },
  {
   "cell_type": "code",
   "execution_count": 11,
   "metadata": {},
   "outputs": [
    {
     "data": {
      "text/plain": [
       "(5, 15, 11, 11)"
      ]
     },
     "execution_count": 11,
     "metadata": {},
     "output_type": "execute_result"
    }
   ],
   "source": [
    "StartIndex,  EndIndex, idx, len(data)"
   ]
  },
  {
   "cell_type": "code",
   "execution_count": 12,
   "metadata": {},
   "outputs": [
    {
     "data": {
      "text/plain": [
       "False"
      ]
     },
     "execution_count": 12,
     "metadata": {},
     "output_type": "execute_result"
    }
   ],
   "source": [
    "StartIndex > len(HistoryData)"
   ]
  },
  {
   "cell_type": "code",
   "execution_count": 13,
   "metadata": {},
   "outputs": [
    {
     "data": {
      "text/plain": [
       "True"
      ]
     },
     "execution_count": 13,
     "metadata": {},
     "output_type": "execute_result"
    }
   ],
   "source": [
    "0<= StartIndex<len(HistoryData) and EndIndex>len(HistoryData)"
   ]
  },
  {
   "cell_type": "code",
   "execution_count": 14,
   "metadata": {},
   "outputs": [
    {
     "data": {
      "text/plain": [
       "False"
      ]
     },
     "execution_count": 14,
     "metadata": {},
     "output_type": "execute_result"
    }
   ],
   "source": [
    "EndIndex <=len(HistoryData)"
   ]
  },
  {
   "cell_type": "code",
   "execution_count": 15,
   "metadata": {},
   "outputs": [
    {
     "data": {
      "text/html": [
       "<div>\n",
       "<style scoped>\n",
       "    .dataframe tbody tr th:only-of-type {\n",
       "        vertical-align: middle;\n",
       "    }\n",
       "\n",
       "    .dataframe tbody tr th {\n",
       "        vertical-align: top;\n",
       "    }\n",
       "\n",
       "    .dataframe thead th {\n",
       "        text-align: right;\n",
       "    }\n",
       "</style>\n",
       "<table border=\"1\" class=\"dataframe\">\n",
       "  <thead>\n",
       "    <tr style=\"text-align: right;\">\n",
       "      <th></th>\n",
       "      <th>病人ID</th>\n",
       "      <th>病人姓名</th>\n",
       "      <th>性别</th>\n",
       "      <th>出生日期</th>\n",
       "      <th>分诊时间</th>\n",
       "      <th>分诊修改时间</th>\n",
       "      <th>分诊印象</th>\n",
       "      <th>分诊耗时</th>\n",
       "      <th>二次分诊</th>\n",
       "      <th>到院方式</th>\n",
       "      <th>T℃</th>\n",
       "      <th>P(次/分)</th>\n",
       "      <th>R(次/分)</th>\n",
       "      <th>BP(mmHg)</th>\n",
       "      <th>SpO2</th>\n",
       "      <th>去向</th>\n",
       "      <th>级别</th>\n",
       "    </tr>\n",
       "  </thead>\n",
       "  <tbody>\n",
       "    <tr>\n",
       "      <th>4</th>\n",
       "      <td>128864987</td>\n",
       "      <td>张祎萱</td>\n",
       "      <td>女</td>\n",
       "      <td>1994/3/8</td>\n",
       "      <td>2022/6/30 12:18</td>\n",
       "      <td>2022/6/30 12:18</td>\n",
       "      <td>乳腺炎</td>\n",
       "      <td>0分26秒</td>\n",
       "      <td>否</td>\n",
       "      <td>步入</td>\n",
       "      <td>36.2</td>\n",
       "      <td>空值</td>\n",
       "      <td>空值</td>\n",
       "      <td>空值</td>\n",
       "      <td>空值</td>\n",
       "      <td>外科</td>\n",
       "      <td>四级</td>\n",
       "    </tr>\n",
       "    <tr>\n",
       "      <th>5</th>\n",
       "      <td>3562567</td>\n",
       "      <td>王盼</td>\n",
       "      <td>女</td>\n",
       "      <td>1989/9/1</td>\n",
       "      <td>2022/6/30 12:13</td>\n",
       "      <td>2022/6/30 12:13</td>\n",
       "      <td>输血制品</td>\n",
       "      <td>0分45秒</td>\n",
       "      <td>否</td>\n",
       "      <td>步入</td>\n",
       "      <td>36</td>\n",
       "      <td>空值</td>\n",
       "      <td>空值</td>\n",
       "      <td>空值</td>\n",
       "      <td>空值</td>\n",
       "      <td>内科</td>\n",
       "      <td>四级</td>\n",
       "    </tr>\n",
       "    <tr>\n",
       "      <th>6</th>\n",
       "      <td>100840538</td>\n",
       "      <td>王桂伶</td>\n",
       "      <td>女</td>\n",
       "      <td>1953/4/14</td>\n",
       "      <td>2022/6/30 12:03</td>\n",
       "      <td>2022/6/30 12:03</td>\n",
       "      <td>胸闷 心悸</td>\n",
       "      <td>0分35秒</td>\n",
       "      <td>否</td>\n",
       "      <td>步入</td>\n",
       "      <td>空值</td>\n",
       "      <td>107</td>\n",
       "      <td>空值</td>\n",
       "      <td>154/94</td>\n",
       "      <td>97</td>\n",
       "      <td>内科</td>\n",
       "      <td>四级</td>\n",
       "    </tr>\n",
       "    <tr>\n",
       "      <th>7</th>\n",
       "      <td>102548773</td>\n",
       "      <td>濮宗芃</td>\n",
       "      <td>男</td>\n",
       "      <td>1934/12/5</td>\n",
       "      <td>2022/6/30 12:02</td>\n",
       "      <td>2022/6/30 12:02</td>\n",
       "      <td>肠梗阻</td>\n",
       "      <td>0分46秒</td>\n",
       "      <td>否</td>\n",
       "      <td>步入</td>\n",
       "      <td>36</td>\n",
       "      <td>空值</td>\n",
       "      <td>空值</td>\n",
       "      <td>空值</td>\n",
       "      <td>空值</td>\n",
       "      <td>外科</td>\n",
       "      <td>四级</td>\n",
       "    </tr>\n",
       "    <tr>\n",
       "      <th>8</th>\n",
       "      <td>3957554</td>\n",
       "      <td>严兰花</td>\n",
       "      <td>女</td>\n",
       "      <td>1963/7/26</td>\n",
       "      <td>2022/6/30 12:01</td>\n",
       "      <td>2022/6/30 12:01</td>\n",
       "      <td>胸闷 心慌</td>\n",
       "      <td>0分25秒</td>\n",
       "      <td>否</td>\n",
       "      <td>步入</td>\n",
       "      <td>36</td>\n",
       "      <td>73</td>\n",
       "      <td>空值</td>\n",
       "      <td>142/74</td>\n",
       "      <td>99</td>\n",
       "      <td>内科</td>\n",
       "      <td>四级</td>\n",
       "    </tr>\n",
       "    <tr>\n",
       "      <th>9</th>\n",
       "      <td>111143683</td>\n",
       "      <td>韩语珊</td>\n",
       "      <td>女</td>\n",
       "      <td>2008/9/27</td>\n",
       "      <td>2022/6/30 11:59</td>\n",
       "      <td>2022/6/30 11:59</td>\n",
       "      <td>动物致伤</td>\n",
       "      <td>0分25秒</td>\n",
       "      <td>否</td>\n",
       "      <td>步入</td>\n",
       "      <td>36</td>\n",
       "      <td>空值</td>\n",
       "      <td>空值</td>\n",
       "      <td>空值</td>\n",
       "      <td>空值</td>\n",
       "      <td>外科</td>\n",
       "      <td>四级</td>\n",
       "    </tr>\n",
       "    <tr>\n",
       "      <th>10</th>\n",
       "      <td>22975429</td>\n",
       "      <td>郝海燕</td>\n",
       "      <td>女</td>\n",
       "      <td>1974/3/19</td>\n",
       "      <td>2022/6/30 11:52</td>\n",
       "      <td>2022/6/30 11:52</td>\n",
       "      <td>动物致伤</td>\n",
       "      <td>0分25秒</td>\n",
       "      <td>否</td>\n",
       "      <td>步入</td>\n",
       "      <td>36</td>\n",
       "      <td>空值</td>\n",
       "      <td>空值</td>\n",
       "      <td>空值</td>\n",
       "      <td>空值</td>\n",
       "      <td>外科</td>\n",
       "      <td>四级</td>\n",
       "    </tr>\n",
       "    <tr>\n",
       "      <th>11</th>\n",
       "      <td>3957558</td>\n",
       "      <td>黄昆</td>\n",
       "      <td>男</td>\n",
       "      <td>1960/5/23</td>\n",
       "      <td>2022/6/30 11:37</td>\n",
       "      <td>2022/6/30 11:37</td>\n",
       "      <td>动物致伤</td>\n",
       "      <td>2分19秒</td>\n",
       "      <td>否</td>\n",
       "      <td>步入</td>\n",
       "      <td>36.2</td>\n",
       "      <td>空值</td>\n",
       "      <td>空值</td>\n",
       "      <td>空值</td>\n",
       "      <td>空值</td>\n",
       "      <td>外科</td>\n",
       "      <td>四级</td>\n",
       "    </tr>\n",
       "    <tr>\n",
       "      <th>12</th>\n",
       "      <td>103557159</td>\n",
       "      <td>文昕</td>\n",
       "      <td>男</td>\n",
       "      <td>1951/7/12</td>\n",
       "      <td>2022/6/30 11:34</td>\n",
       "      <td>2022/6/30 11:34</td>\n",
       "      <td>眼睑肿胀</td>\n",
       "      <td>0分40秒</td>\n",
       "      <td>否</td>\n",
       "      <td>步入</td>\n",
       "      <td>36.2</td>\n",
       "      <td>空值</td>\n",
       "      <td>空值</td>\n",
       "      <td>空值</td>\n",
       "      <td>空值</td>\n",
       "      <td>眼科</td>\n",
       "      <td>四级</td>\n",
       "    </tr>\n",
       "    <tr>\n",
       "      <th>13</th>\n",
       "      <td>105837373</td>\n",
       "      <td>李娜</td>\n",
       "      <td>女</td>\n",
       "      <td>1983/1/9</td>\n",
       "      <td>2022/6/30 11:32</td>\n",
       "      <td>2022/6/30 11:32</td>\n",
       "      <td>动物致伤</td>\n",
       "      <td>0分56秒</td>\n",
       "      <td>否</td>\n",
       "      <td>步入</td>\n",
       "      <td>36.2</td>\n",
       "      <td>空值</td>\n",
       "      <td>空值</td>\n",
       "      <td>空值</td>\n",
       "      <td>空值</td>\n",
       "      <td>外科</td>\n",
       "      <td>四级</td>\n",
       "    </tr>\n",
       "    <tr>\n",
       "      <th>14</th>\n",
       "      <td>127469600</td>\n",
       "      <td>赵凯瑞</td>\n",
       "      <td>男</td>\n",
       "      <td>2018/12/31</td>\n",
       "      <td>2022/6/30 11:23</td>\n",
       "      <td>2022/6/30 11:23</td>\n",
       "      <td>动物致伤</td>\n",
       "      <td>0分13秒</td>\n",
       "      <td>否</td>\n",
       "      <td>怀抱</td>\n",
       "      <td>36</td>\n",
       "      <td>空值</td>\n",
       "      <td>空值</td>\n",
       "      <td>空值</td>\n",
       "      <td>空值</td>\n",
       "      <td>外科</td>\n",
       "      <td>四级</td>\n",
       "    </tr>\n",
       "  </tbody>\n",
       "</table>\n",
       "</div>"
      ],
      "text/plain": [
       "         病人ID 病人姓名 性别        出生日期             分诊时间           分诊修改时间   分诊印象  \\\n",
       "4   128864987  张祎萱  女    1994/3/8  2022/6/30 12:18  2022/6/30 12:18    乳腺炎   \n",
       "5     3562567   王盼  女    1989/9/1  2022/6/30 12:13  2022/6/30 12:13   输血制品   \n",
       "6   100840538  王桂伶  女   1953/4/14  2022/6/30 12:03  2022/6/30 12:03  胸闷 心悸   \n",
       "7   102548773  濮宗芃  男   1934/12/5  2022/6/30 12:02  2022/6/30 12:02    肠梗阻   \n",
       "8     3957554  严兰花  女   1963/7/26  2022/6/30 12:01  2022/6/30 12:01  胸闷 心慌   \n",
       "9   111143683  韩语珊  女   2008/9/27  2022/6/30 11:59  2022/6/30 11:59   动物致伤   \n",
       "10   22975429  郝海燕  女   1974/3/19  2022/6/30 11:52  2022/6/30 11:52   动物致伤   \n",
       "11    3957558   黄昆  男   1960/5/23  2022/6/30 11:37  2022/6/30 11:37   动物致伤   \n",
       "12  103557159   文昕  男   1951/7/12  2022/6/30 11:34  2022/6/30 11:34   眼睑肿胀   \n",
       "13  105837373   李娜  女    1983/1/9  2022/6/30 11:32  2022/6/30 11:32   动物致伤   \n",
       "14  127469600  赵凯瑞  男  2018/12/31  2022/6/30 11:23  2022/6/30 11:23   动物致伤   \n",
       "\n",
       "     分诊耗时 二次分诊 到院方式    T℃ P(次/分) R(次/分) BP(mmHg) SpO2  去向  级别  \n",
       "4   0分26秒    否   步入  36.2     空值     空值       空值   空值  外科  四级  \n",
       "5   0分45秒    否   步入    36     空值     空值       空值   空值  内科  四级  \n",
       "6   0分35秒    否   步入    空值    107     空值   154/94   97  内科  四级  \n",
       "7   0分46秒    否   步入    36     空值     空值       空值   空值  外科  四级  \n",
       "8   0分25秒    否   步入    36     73     空值   142/74   99  内科  四级  \n",
       "9   0分25秒    否   步入    36     空值     空值       空值   空值  外科  四级  \n",
       "10  0分25秒    否   步入    36     空值     空值       空值   空值  外科  四级  \n",
       "11  2分19秒    否   步入  36.2     空值     空值       空值   空值  外科  四级  \n",
       "12  0分40秒    否   步入  36.2     空值     空值       空值   空值  眼科  四级  \n",
       "13  0分56秒    否   步入  36.2     空值     空值       空值   空值  外科  四级  \n",
       "14  0分13秒    否   怀抱    36     空值     空值       空值   空值  外科  四级  "
      ]
     },
     "execution_count": 15,
     "metadata": {},
     "output_type": "execute_result"
    }
   ],
   "source": [
    "data"
   ]
  },
  {
   "cell_type": "code",
   "execution_count": 29,
   "metadata": {},
   "outputs": [],
   "source": [
    "NAME = HistoryData[-1:]['病人姓名'].values[0]\n",
    "INDEX_Final = data['病人姓名'].str.contains(NAME).index[0]\n",
    "if len([INDEX_Final]) == 1:\n",
    "    FinalIndex = INDEX_Final\n",
    "else: \n",
    "    print(INDEX_Final)\n",
    "    FinalIndex = INDEX_Final[-1]"
   ]
  },
  {
   "cell_type": "code",
   "execution_count": 30,
   "metadata": {},
   "outputs": [
    {
     "data": {
      "text/plain": [
       "3"
      ]
     },
     "execution_count": 30,
     "metadata": {},
     "output_type": "execute_result"
    }
   ],
   "source": [
    "FinalIndex"
   ]
  },
  {
   "cell_type": "code",
   "execution_count": 7,
   "metadata": {},
   "outputs": [
    {
     "data": {
      "text/plain": [
       "'骆嘉丽'"
      ]
     },
     "execution_count": 7,
     "metadata": {},
     "output_type": "execute_result"
    }
   ],
   "source": [
    "HistoryData = pd.read_csv(save_path, engine='python')\n",
    "NAME = HistoryData[-1:]['病人姓名'].values[0]\n",
    "NAME"
   ]
  },
  {
   "cell_type": "code",
   "execution_count": 15,
   "metadata": {},
   "outputs": [
    {
     "data": {
      "text/plain": [
       "6"
      ]
     },
     "execution_count": 15,
     "metadata": {},
     "output_type": "execute_result"
    }
   ],
   "source": [
    "duplicates = data['病人姓名'].duplicated(keep=False)\n",
    "data['病人姓名'][duplicates].tail(1).index[0]"
   ]
  },
  {
   "cell_type": "code",
   "execution_count": 13,
   "metadata": {},
   "outputs": [
    {
     "data": {
      "text/plain": [
       "6    骆嘉丽\n",
       "Name: 病人姓名, dtype: object"
      ]
     },
     "execution_count": 13,
     "metadata": {},
     "output_type": "execute_result"
    }
   ],
   "source": []
  },
  {
   "cell_type": "code",
   "execution_count": 14,
   "metadata": {},
   "outputs": [
    {
     "name": "stdout",
     "output_type": "stream",
     "text": [
      "1\n",
      "2\n",
      "2\n"
     ]
    }
   ],
   "source": [
    "import pandas as pd\n",
    "\n",
    "# 创建一个示例 DataFrame\n",
    "data0 = {'Column1': [1, 2, 3, 1, 4, 2, 5, 6, 2]}\n",
    "df = pd.DataFrame(data0)\n",
    "\n",
    "# 列中的重复值\n",
    "duplicates = df['Column1'].duplicated(keep='first')\n",
    "\n",
    "# 获取最后一个重复值的行\n",
    "first_occurrence_indices = []\n",
    "for value in df['Column1'][duplicates]:\n",
    "    print(value)\n",
    "    first_occurrence_indices.append(df[df['Column1'] == value].index[0])"
   ]
  },
  {
   "cell_type": "code",
   "execution_count": 15,
   "metadata": {},
   "outputs": [
    {
     "data": {
      "text/plain": [
       "[0, 1, 1]"
      ]
     },
     "execution_count": 15,
     "metadata": {},
     "output_type": "execute_result"
    }
   ],
   "source": [
    "first_occurrence_indices"
   ]
  },
  {
   "cell_type": "code",
   "execution_count": 17,
   "metadata": {},
   "outputs": [
    {
     "data": {
      "text/plain": [
       "Int64Index([3, 5, 8], dtype='int64')"
      ]
     },
     "execution_count": 17,
     "metadata": {},
     "output_type": "execute_result"
    }
   ],
   "source": [
    "df['Column1'][duplicates].index[0]"
   ]
  },
  {
   "cell_type": "code",
   "execution_count": 18,
   "metadata": {},
   "outputs": [
    {
     "data": {
      "text/plain": [
       "3    1\n",
       "5    2\n",
       "8    2\n",
       "Name: Column1, dtype: int64"
      ]
     },
     "execution_count": 18,
     "metadata": {},
     "output_type": "execute_result"
    }
   ],
   "source": [
    "df['Column1'][duplicates]"
   ]
  },
  {
   "cell_type": "code",
   "execution_count": null,
   "metadata": {},
   "outputs": [],
   "source": []
  },
  {
   "cell_type": "code",
   "execution_count": null,
   "metadata": {},
   "outputs": [],
   "source": []
  },
  {
   "cell_type": "code",
   "execution_count": null,
   "metadata": {},
   "outputs": [],
   "source": []
  },
  {
   "cell_type": "code",
   "execution_count": null,
   "metadata": {},
   "outputs": [],
   "source": []
  },
  {
   "cell_type": "code",
   "execution_count": 4,
   "metadata": {},
   "outputs": [
    {
     "name": "stdout",
     "output_type": "stream",
     "text": [
      "级别预测正确率: nan%\n",
      "科室预测正确率: nan%\n",
      "同时级别和去向都正确的比例: nan%\n"
     ]
    }
   ],
   "source": [
    "import pandas as pd\n",
    "HistoryData = pd.read_csv(save_path, engine='python')\n",
    "len(HistoryData)\n",
    "\n",
    "# 假设你的数据为 HistoryData\n",
    "# 添加一个列表示级别预测是否正确\n",
    "HistoryData['级别预测正确'] = HistoryData['级别'] == HistoryData['级别M']\n",
    "\n",
    "# 添加一个列表示去向预测是否正确\n",
    "HistoryData['去向预测正确'] = HistoryData['去向'] == HistoryData['科室M']\n",
    "\n",
    "# 添加一个列表示同时级别和去向都正确\n",
    "HistoryData['同时正确'] = HistoryData['级别预测正确'] & HistoryData['去向预测正确']\n",
    "\n",
    "# 计算同时正确的比例\n",
    "级别正确率 = HistoryData['级别预测正确'].mean()\n",
    "科室正确率 = HistoryData['去向预测正确'].mean()\n",
    "同时正确比例 = HistoryData['同时正确'].mean()\n",
    "\n",
    "print(f'级别预测正确率: {100 * 级别正确率:.2f}%')\n",
    "print(f'科室预测正确率: {100 * 科室正确率:.2f}%')\n",
    "print(f'同时级别和去向都正确的比例: {100 * 同时正确比例:.2f}%')"
   ]
  },
  {
   "cell_type": "code",
   "execution_count": null,
   "metadata": {},
   "outputs": [],
   "source": []
  }
 ],
 "metadata": {
  "kernelspec": {
   "display_name": "LineSegDetection",
   "language": "python",
   "name": "linesegdetection"
  },
  "language_info": {
   "codemirror_mode": {
    "name": "ipython",
    "version": 3
   },
   "file_extension": ".py",
   "mimetype": "text/x-python",
   "name": "python",
   "nbconvert_exporter": "python",
   "pygments_lexer": "ipython3",
   "version": "3.8.16"
  }
 },
 "nbformat": 4,
 "nbformat_minor": 4
}
